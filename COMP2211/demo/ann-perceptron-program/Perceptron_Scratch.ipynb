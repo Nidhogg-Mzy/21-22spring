{
  "nbformat": 4,
  "nbformat_minor": 0,
  "metadata": {
    "colab": {
      "name": "Perceptron-Scratch.ipynb",
      "provenance": [],
      "collapsed_sections": []
    },
    "kernelspec": {
      "name": "python3",
      "display_name": "Python 3"
    },
    "language_info": {
      "name": "python"
    }
  },
  "cells": [
    {
      "cell_type": "code",
      "execution_count": 2,
      "metadata": {
        "colab": {
          "base_uri": "https://localhost:8080/"
        },
        "id": "KaMdk4eIfvN1",
        "outputId": "192323bb-1d8e-46b6-f5cb-ac0c44f86ae9"
      },
      "outputs": [
        {
          "output_type": "stream",
          "name": "stdout",
          "text": [
            "Total number of rounds (epochs):  100\n",
            "Final weights:  [0.5, 0.49999999999999994]\n",
            "Final bias:  -0.8\n"
          ]
        }
      ],
      "source": [
        "import math # Import math module\n",
        "\n",
        "class Perceptron:\n",
        "   def __init__(self):\n",
        "       \"\"\" Perceptron initialization \"\"\"\n",
        "       self.w = [0.1,0.5]       # Weights\n",
        "       self.theta = -0.8        # Bias\n",
        "       self.learningRate = 0.2  # Eta\n",
        "\n",
        "   def response(self,x):\n",
        "       \"\"\" Perceptron output \"\"\"\n",
        "       # Calculate weighted sum\n",
        "       y = x[0] * self.w[0] + x[1] * self.w[1] + self.theta\n",
        "       # If weighted sum > 0, return 1. Otherwise return 0\n",
        "       if y > 0:\n",
        "          return 1\n",
        "       else:\n",
        "          return 0\n",
        "\n",
        "   def updateWeights(self,x,iterError):\n",
        "       \"\"\" Weights update \"\"\"\n",
        "       # wi = wi + eta * (T-O) * xi \n",
        "       self.w[0] += self.learningRate * iterError * x[0]\n",
        "       self.w[1] += self.learningRate * iterError * x[1]\n",
        "\n",
        "   def updateBias(self,iterError):\n",
        "       \"\"\" Bias update \"\"\"\n",
        "       # theta = theta + eta * (T-O)\n",
        "       self.theta += self.learningRate * iterError \n",
        "\n",
        "   def train(self,data):\n",
        "       \"\"\" Training \"\"\"\n",
        "       learned = True  # Should perform training\n",
        "       round = 0       # Initialize round to 0\n",
        "\t   \n",
        "       while learned:                              # While learned is true\n",
        "           totalError = 0.0                        # Initialize totalError to 0\n",
        "           for x in data:                          # For each data sample\n",
        "               r = self.response(x)                # Calculate perceptron output of x\n",
        "               if x[2] != r:                       # If the output is different to target\n",
        "                  roundError = x[2] - r            # Error = target - perceptron output\n",
        "                  self.updateWeights(x,roundError) # Update weights\n",
        "                  self.updateBias(roundError)      # Update bias\n",
        "                  totalError += abs(roundError)    # Update total error\n",
        "           round += 1\n",
        "\n",
        "           if math.isclose(totalError, 1.0e-100) or round >= 100: # Stopping condition\n",
        "              print(\"Total number of rounds (epochs): \", round)   # Print total num of rounds\n",
        "              print(\"Final weights: \", self.w)                    # Print final weights\n",
        "              print(\"Final bias: \", self.theta)                   # Print final bias\n",
        "              learned = False                                     # Stop learning\n",
        "\n",
        "\n",
        "\"\"\" Main function \"\"\"\n",
        "perceptron = Perceptron()                       # Create Perceptron object\n",
        "trainset = [[0,0,0], [0,1,0], [1,0,0], [1,1,1]] # Define training set\n",
        "perceptron.train(trainset);                     # Perform training"
      ]
    },
    {
      "cell_type": "code",
      "source": [
        ""
      ],
      "metadata": {
        "id": "4bxP8bEvfyho"
      },
      "execution_count": null,
      "outputs": []
    }
  ]
}