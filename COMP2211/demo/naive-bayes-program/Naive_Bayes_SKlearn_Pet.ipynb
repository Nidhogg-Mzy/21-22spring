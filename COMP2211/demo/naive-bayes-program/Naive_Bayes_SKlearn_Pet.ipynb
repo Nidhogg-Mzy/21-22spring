{
  "nbformat": 4,
  "nbformat_minor": 0,
  "metadata": {
    "colab": {
      "name": "Naive-Bayes-SKlearn-Pet.ipynb",
      "provenance": [],
      "collapsed_sections": []
    },
    "kernelspec": {
      "name": "python3",
      "display_name": "Python 3"
    },
    "language_info": {
      "name": "python"
    }
  },
  "cells": [
    {
      "cell_type": "code",
      "execution_count": 6,
      "metadata": {
        "colab": {
          "base_uri": "https://localhost:8080/"
        },
        "id": "bncx719YmJk0",
        "outputId": "148cc662-af30-4d02-91ec-e6a1758da53c"
      },
      "outputs": [
        {
          "output_type": "stream",
          "name": "stdout",
          "text": [
            "[0] [[0.71681416 0.28318584]]\n"
          ]
        }
      ],
      "source": [
        "import numpy as np\n",
        "# CategoricalNB is for doing Naive Bayes classifier for categorical features\n",
        "from sklearn.naive_bayes import CategoricalNB\n",
        "\n",
        "# Forming training data\n",
        "# Features: Animals (0=Dog,1=Rat,2=Cow), Size (0=Big,1=Medium,2=Small), \n",
        "#           Color (0=Black, 1=White, 2=Brown)\n",
        "training = np.array([[0, 1, 0], [0, 0, 1], [1, 2, 1], [2, 0, 1], [2, 2, 2],\n",
        "                     [2, 0, 0], [1, 0, 2], [0, 2, 2], [0, 1, 2], [2, 1, 1],\n",
        "                     [0, 2, 0], [1, 1, 0], [1, 2, 2], [2, 0, 1]])\n",
        "# Forming the label set\n",
        "# Labels: 0=Yes, 1=No\n",
        "outcome = np.array([0, 1, 0, 0, 1, 0, 1, 0, 0, 1, 0, 1, 1, 0])\n",
        "\n",
        "# This is the new data to be evaluated using the trained AI (model)\n",
        "new_sample = np.array([[2, 1, 0]])\n",
        "\n",
        "# Train Naive Bayes classifier according to training, outcome\n",
        "clf = CategoricalNB(alpha=1.0e-10).fit(training, outcome)\n",
        "# Perform classification on new_sample\n",
        "pred_class = clf.predict(new_sample)\n",
        "# Get the probability estimates for new_sample\n",
        "prob = clf.predict_proba(new_sample)\n",
        "# Print the results\n",
        "print(pred_class, prob)"
      ]
    },
    {
      "cell_type": "code",
      "source": [
        ""
      ],
      "metadata": {
        "id": "6EfZLnlJneiW"
      },
      "execution_count": null,
      "outputs": []
    }
  ]
}