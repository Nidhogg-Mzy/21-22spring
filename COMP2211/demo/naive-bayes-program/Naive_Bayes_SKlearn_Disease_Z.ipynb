{
  "nbformat": 4,
  "nbformat_minor": 0,
  "metadata": {
    "colab": {
      "name": "Naive-Bayes-SKlearn-Disease-Z.ipynb",
      "provenance": [],
      "collapsed_sections": []
    },
    "kernelspec": {
      "name": "python3",
      "display_name": "Python 3"
    },
    "language_info": {
      "name": "python"
    }
  },
  "cells": [
    {
      "cell_type": "code",
      "execution_count": null,
      "metadata": {
        "colab": {
          "base_uri": "https://localhost:8080/"
        },
        "id": "jeNX52v4A9kc",
        "outputId": "90362d33-73c3-423b-c4d0-7422d6f0bd5d"
      },
      "outputs": [
        {
          "output_type": "stream",
          "name": "stdout",
          "text": [
            "[1] [[0.20458265 0.79541735]]\n"
          ]
        }
      ],
      "source": [
        "import numpy as np\n",
        "# CategoricalNB is for doing Naive Bayes classifier for categorical features\n",
        "from sklearn.naive_bayes import CategoricalNB\n",
        "\n",
        "# Forming training data\n",
        "# Features: Blood Pressure (0=High,1=Normal,2=Low), Fever (0=High,1=Mild,2=No Fever), \n",
        "#           Diabetes (0=Yes, 1=No), Vomit (0=Yes, 1=No)\n",
        "training = np.array([[0, 0, 0, 1], [0, 0, 0, 0], [2, 0, 0, 1], [1, 1, 0, 1], [1, 2, 1, 1], \n",
        "                     [1, 2, 1, 0], [2, 2, 1, 0], [0, 1, 0, 1], [0, 2, 1, 1], [1, 1, 1, 1],\n",
        "                     [0, 1, 1, 0], [2, 1, 0, 0], [2, 0, 1, 1], [1, 1, 0, 0]])\n",
        "# Forming the label set\n",
        "# Labels: 0=Yes, 1=No\n",
        "outcome = np.array([1, 1, 0, 0, 0, 1, 0, 1, 0, 0, 0, 0, 0, 1])\n",
        "\n",
        "# This is the new data to be evaluated using the trained AI (model)\n",
        "new_sample = np.array([[0, 2, 0, 0]])\n",
        "\n",
        "# Train Naive Bayes classifier according to training, outcome\n",
        "clf = CategoricalNB(alpha=1.0e-10).fit(training, outcome)\n",
        "# Perform classification on new_sample\n",
        "pred_class = clf.predict(new_sample)\n",
        "# Get the probability estimates for new_sample\n",
        "prob = clf.predict_proba(new_sample)\n",
        "# Print the results\n",
        "print(pred_class, prob)"
      ]
    },
    {
      "cell_type": "code",
      "source": [
        ""
      ],
      "metadata": {
        "id": "lvt8BYvPGNYd"
      },
      "execution_count": null,
      "outputs": []
    }
  ]
}