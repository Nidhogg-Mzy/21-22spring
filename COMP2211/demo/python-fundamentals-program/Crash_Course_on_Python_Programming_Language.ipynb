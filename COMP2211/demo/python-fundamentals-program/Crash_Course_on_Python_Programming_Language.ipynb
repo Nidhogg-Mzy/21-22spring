{
  "nbformat": 4,
  "nbformat_minor": 0,
  "metadata": {
    "colab": {
      "name": "Crash-Course-on-Python-Programming-Language.ipynb",
      "provenance": [],
      "collapsed_sections": []
    },
    "kernelspec": {
      "name": "python3",
      "display_name": "Python 3"
    },
    "language_info": {
      "name": "python"
    }
  },
  "cells": [
    {
      "cell_type": "code",
      "execution_count": 2,
      "metadata": {
        "colab": {
          "base_uri": "https://localhost:8080/"
        },
        "id": "blcsrgh5twfY",
        "outputId": "6d26642c-635d-4568-a340-d95a24bdc0c7"
      },
      "outputs": [
        {
          "output_type": "stream",
          "name": "stdout",
          "text": [
            "<class 'int'>\n",
            "3\n",
            "4\n",
            "2\n",
            "6\n",
            "1.5\n",
            "1\n",
            "1\n",
            "9\n",
            "4\n",
            "8\n",
            "<class 'float'>\n",
            "2.5 3.5 5.0 6.25\n"
          ]
        }
      ],
      "source": [
        "# Page 8: Integers and Floats\n",
        "\n",
        "x = 3\n",
        "print(type(x))                 # Print \"<class 'int'>\"\n",
        "print(x)                       # Print \"3\"\n",
        "print(x + 1)                   # Addition; print \"4\"\n",
        "print(x - 1)                   # Subtraction; print \"2\"\n",
        "print(x * 2)                   # Multiplication; print \"6\"\n",
        "print(x / 2)                   # Division, print \"1.5\"\n",
        "print(x // 2)                  # Integer division, print \"1\"\n",
        "print(x % 2)                   # Modulus; print \"1\"\n",
        "print(x ** 2)                  # Exponentiation; print \"9\"\n",
        "x += 1;  print(x)              # Print \"4\"\n",
        "x *= 2;  print(x)              # Print \"8\"\n",
        "y = 2.5; print(type(y))        # Print \"<class 'float'>\"\n",
        "print(y, y + 1, y * 2, y ** 2) # Print \"2.5 3.5 5.0 6.25\""
      ]
    },
    {
      "cell_type": "code",
      "source": [
        "# Page 9: Booleans\n",
        "\n",
        "print(1 + 1 != 3)  # Print \"True\"\n",
        "print(4 + 6 == 10) # Print \"True\"\n",
        "x = 3; y = 5\n",
        "print(x + y > 7)   # Print \"True\"\n",
        "print(x * y <= 7)  # Print \"False\"\n",
        "\n",
        "t = True; f = False\n",
        "print(type(t)) # Print \"<class 'bool'>\"\n",
        "print(t and f) # Logical AND; print \"False\"\n",
        "print(t or f)  # Logical OR; print \"True\"\n",
        "print(not t)   # Logical NOT; print \"False\"\n",
        "print(t != f)  # Logical XOR; print \"True\""
      ],
      "metadata": {
        "colab": {
          "base_uri": "https://localhost:8080/"
        },
        "id": "zqMog4fVt89L",
        "outputId": "e5e0ad48-b382-4b19-a78b-7a1cd3c158dd"
      },
      "execution_count": 3,
      "outputs": [
        {
          "output_type": "stream",
          "name": "stdout",
          "text": [
            "True\n",
            "True\n",
            "True\n",
            "False\n",
            "<class 'bool'>\n",
            "False\n",
            "True\n",
            "False\n",
            "True\n"
          ]
        }
      ]
    },
    {
      "cell_type": "code",
      "source": [
        "# Page 10: Strings\n",
        "\n",
        "hello = 'hello'           # String literals can use single quotes\n",
        "world = \"world\"           # or double quotes; it does not matter\n",
        "print(hello)              # Print \"hello\"\n",
        "print(len(hello))         # String length; print \"5\"\n",
        "hw = hello + ' ' + world  # String concatenation\n",
        "print(hw)                 # Print \"hello world\"\n",
        "hw12 = '%s %s %d' % (hello, world, 12)  # sprintf style string formatting\n",
        "print(hw12)               # Print \"hello world 12\"\n",
        "print(type(hw12))         # Print \"<class 'str'>\"\n",
        "print(hello * 3)          # Print \"hellohellohello\", \n",
        "                          # i.e., \"hello\" is duplicated by 3 times"
      ],
      "metadata": {
        "colab": {
          "base_uri": "https://localhost:8080/"
        },
        "id": "t5lTKdzIuDS8",
        "outputId": "9e0a2a89-f1ca-4e00-ca83-11430b16ee04"
      },
      "execution_count": 4,
      "outputs": [
        {
          "output_type": "stream",
          "name": "stdout",
          "text": [
            "hello\n",
            "5\n",
            "hello world\n",
            "hello world 12\n",
            "<class 'str'>\n",
            "hellohellohello\n"
          ]
        }
      ]
    },
    {
      "cell_type": "code",
      "source": [
        "# Page 12: Examples\n",
        "\n",
        "unicode_string = u'COMP2211'\n",
        "print(unicode_string)      # Print \"COMP2211\"\n",
        "\n",
        "byte_string = b'COMP2211'\n",
        "print(type(byte_string))   # Print \"<class 'bytes'>\"\n",
        "decode_string = byte_string.decode('utf-8')\n",
        "print(type(decode_string)) # Print \"<class 'str'>\"\n",
        "encode_string = decode_string.encode('utf-8')\n",
        "print(type(encode_string)) # Print \"<class 'bytes'>\"\n",
        "\n",
        "raw_string = r'Hi\\nHello'\n",
        "print(raw_string)          # Print \"Hi\\nHello\"\n",
        "\n",
        "a = 1\n",
        "b = 2\n",
        "print(f'a + b = {a+b}')    # Print \"a + b = 3\""
      ],
      "metadata": {
        "colab": {
          "base_uri": "https://localhost:8080/"
        },
        "id": "tLKwUXi3uN3g",
        "outputId": "bbbaa15b-6d3a-4646-f550-9d949df19bf2"
      },
      "execution_count": 5,
      "outputs": [
        {
          "output_type": "stream",
          "name": "stdout",
          "text": [
            "COMP2211\n",
            "<class 'bytes'>\n",
            "<class 'str'>\n",
            "<class 'bytes'>\n",
            "Hi\\nHello\n",
            "a + b = 3\n"
          ]
        }
      ]
    },
    {
      "cell_type": "code",
      "source": [
        "# Page 13: String Objects\n",
        "\n",
        "s = \"hello\"\n",
        "print(s.capitalize())           # Capitalize a string; prints \"Hello\"\n",
        "print(s.upper())                # Convert a string to uppercase; prints \"HELLO\"\n",
        "print(s.rjust(7))               # Right-justify a string, padding with spaces;\n",
        "                                # Print \"  hello\"\n",
        "print(s.center(7))              # Center a string, padding with spaces; \n",
        "                                # Print \" hello \"\n",
        "print(s.replace('l', '(ell)'))  # Replace all instances of one substring\n",
        "                                # with another; print \"he(ell)(ell)o\"\n",
        "print('  world '.strip())       # Strip leading and trailing whitespace;\n",
        "                                # print \"world\""
      ],
      "metadata": {
        "colab": {
          "base_uri": "https://localhost:8080/"
        },
        "id": "TQoQYL3puUjp",
        "outputId": "2e8b8e4c-0018-4c01-be8d-2173582c2967"
      },
      "execution_count": 6,
      "outputs": [
        {
          "output_type": "stream",
          "name": "stdout",
          "text": [
            "Hello\n",
            "HELLO\n",
            "  hello\n",
            " hello \n",
            "he(ell)(ell)o\n",
            "world\n"
          ]
        }
      ]
    },
    {
      "cell_type": "code",
      "source": [
        "# Page 14: Type Conversion\n",
        "\n",
        "print(int('3') + 5)  # Print \"8\"\n",
        "print('3' + str(5))  # Print \"35\"\n",
        "print(float(3) + 3)  # Print \"6.0\"\n",
        "print(int(3.14) + 3) # Print \"6\""
      ],
      "metadata": {
        "colab": {
          "base_uri": "https://localhost:8080/"
        },
        "id": "U848RUXwuaot",
        "outputId": "64b05a40-8142-4e83-a20c-98a40d1980d9"
      },
      "execution_count": 7,
      "outputs": [
        {
          "output_type": "stream",
          "name": "stdout",
          "text": [
            "8\n",
            "35\n",
            "6.0\n",
            "6\n"
          ]
        }
      ]
    },
    {
      "cell_type": "code",
      "source": [
        "# Page 16: Output Data to Standard Output Device\n",
        "\n",
        "print('COMP2211 is the best COMP course :D') # Print a string\n",
        "\n",
        "age = 18\n",
        "print('I am', age, 'years old')     # Print 'I am 18 years old'\n",
        "\n",
        "print(2, 2, 1, 1)                   # Print 2 2 1 1\n",
        "print(2, 2, 1, 1, sep='@')          # Print 2@2@1@1\n",
        "print(2, 2, 1, 1, sep='~', end='*') # Print 2~2~1~1*\n",
        "print()                             # Print '\\n', i.e., move to the next line\n",
        "\n",
        "x = 'A+'; y = 'A'\n",
        "# Print 'Desmond will get A+ and John will get A'\n",
        "print('Desmond will get {} and John will get {}'.format(x,y))\n",
        "# Print 'Desmond will get A+ and John will get A'\n",
        "print('Desmond will get {0} and John will get {1}'.format(x,y))\n",
        "# Print 'Desmond will get A and John will get A+'\n",
        "print('Desmond will get {1} and John will get {0}'.format(x,y))\n",
        "# Print 'Desmond will get A+ and John will get A'\n",
        "print('Dsemond will get {a} and John will get {b}'.format(a = 'A+', b = 'A'))"
      ],
      "metadata": {
        "colab": {
          "base_uri": "https://localhost:8080/"
        },
        "id": "clUCT6N2ugaG",
        "outputId": "d440a434-456d-4fdc-968d-aa845bea5c26"
      },
      "execution_count": 8,
      "outputs": [
        {
          "output_type": "stream",
          "name": "stdout",
          "text": [
            "COMP2211 is the best COMP course :D\n",
            "I am 18 years old\n",
            "2 2 1 1\n",
            "2@2@1@1\n",
            "2~2~1~1*\n",
            "Desmond will get A+ and John will get A\n",
            "Desmond will get A+ and John will get A\n",
            "Desmond will get A and John will get A+\n",
            "Dsemond will get A+ and John will get A\n"
          ]
        }
      ]
    },
    {
      "cell_type": "code",
      "source": [
        "# Page 17: Input Data\n",
        "\n",
        "age = input('Enter your age: ')\n",
        "print(age)              # Assume the input is 18. It prints \"18\"\n",
        "print(type(age))        # Print \"<class 'str'>\"\n",
        "print(type(int(age)))   # Print \"<class 'int'>\"\n",
        "print(type(float(age))) # Print \"<class 'float'>\"\n",
        "age = int(age) + 1      # Convert age to int and increase it by 1\n",
        "print('Now you are', age, 'years old') # Print \"Now you are 19 years old\""
      ],
      "metadata": {
        "colab": {
          "base_uri": "https://localhost:8080/"
        },
        "id": "CcEYh0WEunbA",
        "outputId": "e02f6d08-d643-4ea5-b792-92790e031bdb"
      },
      "execution_count": 9,
      "outputs": [
        {
          "output_type": "stream",
          "name": "stdout",
          "text": [
            "Enter your age: 18\n",
            "18\n",
            "<class 'str'>\n",
            "<class 'int'>\n",
            "<class 'float'>\n",
            "Now you are 19 years old\n"
          ]
        }
      ]
    },
    {
      "cell_type": "code",
      "source": [
        "# Page 22: Lists\n",
        "\n",
        "xs = [3, 1, 2]    # Create a list\n",
        "print(xs, xs[2])  # Print \"[3, 1, 2] 2\"\n",
        "print(xs[-1])     # Negative indices count from the end of the list; print \"2\"\n",
        "xs[2] = 'foo'     # Lists can contain elements of different types\n",
        "print(xs)         # Print \"[3, 1, 'foo']\"\n",
        "xs.append('bar')  # Add a new element to the end of the list\n",
        "print(xs)         # Print \"[3, 1, 'foo', 'bar']\"\n",
        "x = xs.pop()      # Remove and return the last element of the list\n",
        "print(x, xs)      # Print \"bar [3, 1, 'foo']\"\n",
        "ys = ['a', 3, [4.5, 'c', True]] # Create another list\n",
        "print(ys)         # Print ['a', 3, [4.5, 'c', True]]\n",
        "print(ys[2][2])   # Print \"True\"\n",
        "ys += [4, 5, 6]   # Add 3 elements, 4, 5, 6 to ys\n",
        "print(ys)         # Print ['a', 3, [4.5, 'c', True], 4, 5, 6]\n",
        "ys.remove(5)      # Remove 4.5 from the list\n",
        "print(ys)         # Print ['a', 3, [4.5, 'c', True], 4, 6]"
      ],
      "metadata": {
        "colab": {
          "base_uri": "https://localhost:8080/"
        },
        "id": "UsM95taSuspk",
        "outputId": "3b3001a4-f71a-4cbc-b32c-b1a381a17a85"
      },
      "execution_count": 10,
      "outputs": [
        {
          "output_type": "stream",
          "name": "stdout",
          "text": [
            "[3, 1, 2] 2\n",
            "2\n",
            "[3, 1, 'foo']\n",
            "[3, 1, 'foo', 'bar']\n",
            "bar [3, 1, 'foo']\n",
            "['a', 3, [4.5, 'c', True]]\n",
            "True\n",
            "['a', 3, [4.5, 'c', True], 4, 5, 6]\n",
            "['a', 3, [4.5, 'c', True], 4, 6]\n"
          ]
        }
      ]
    },
    {
      "cell_type": "code",
      "source": [
        "# Page 24: Slicing\n",
        "\n",
        "nums = list(range(5))     # range is a built-in function that creates a \n",
        "                          # list of integers, [0, 1, 2, 3, 4]\n",
        "print(nums)               # Print \"[0, 1, 2, 3, 4]\"\n",
        "print(nums[2:4])          # Get a slice from index 2 to 4 (exclusive); \n",
        "                          # print \"[2, 3]\"\n",
        "print(nums[2:])           # Get a slice from index 2 to the end; \n",
        "                          # print \"[2, 3, 4]\"\n",
        "print(nums[:2])           # Get a slice from the start to index 2 (exclusive);\n",
        "                          # print \"[0, 1]\"\n",
        "print(nums[:])            # Get a slice of the whole list; \n",
        "                          # print \"[0, 1, 2, 3, 4]\"\n",
        "print(nums[:-1])          # Slice indices can be negative; \n",
        "                          # print \"[0, 1, 2, 3]\"\n",
        "print(nums[0:4:2])        # Print \"[0, 2]\"                          \n",
        "nums[2:4] = [8, 9]        # Assign a new sublist to a slice\n",
        "print(nums)               # Print \"[0, 1, 8, 9, 4]\""
      ],
      "metadata": {
        "colab": {
          "base_uri": "https://localhost:8080/"
        },
        "id": "AnMw4tbzu0oN",
        "outputId": "60f03ae2-281d-4830-c75b-284b90bb9fab"
      },
      "execution_count": 11,
      "outputs": [
        {
          "output_type": "stream",
          "name": "stdout",
          "text": [
            "[0, 1, 2, 3, 4]\n",
            "[2, 3]\n",
            "[2, 3, 4]\n",
            "[0, 1]\n",
            "[0, 1, 2, 3, 4]\n",
            "[0, 1, 2, 3]\n",
            "[0, 2]\n",
            "[0, 1, 8, 9, 4]\n"
          ]
        }
      ]
    },
    {
      "cell_type": "code",
      "source": [
        "# Page 25: Loops\n",
        "\n",
        "animals = ['cat', 'dog', 'monkey']\n",
        "for animal in animals:\n",
        "    print(animal)  # Prints \"cat\", \"dog\", \"monkey\", each on its own line.\n",
        "\n",
        "# Alternative\n",
        "# for index in range(3):\n",
        "#     print(animals[index])\n",
        "# Prints \"cat\", \"dog\", \"monkey\", each on its own line.\n",
        "\n",
        "i = 0\n",
        "while i < len(animals):\n",
        "    print(animals[i])\n",
        "    i = i + 1      # Prints \"cat\", \"dog\", \"monkey\", each on its own line."
      ],
      "metadata": {
        "colab": {
          "base_uri": "https://localhost:8080/"
        },
        "id": "T27pAqDju81_",
        "outputId": "dc51f212-7414-4ca5-b75a-8c66c85e9e50"
      },
      "execution_count": 12,
      "outputs": [
        {
          "output_type": "stream",
          "name": "stdout",
          "text": [
            "cat\n",
            "dog\n",
            "monkey\n",
            "cat\n",
            "dog\n",
            "monkey\n"
          ]
        }
      ]
    },
    {
      "cell_type": "code",
      "source": [
        "# Page 27: List Comprehensions\n",
        "\n",
        "nums = [0, 1, 2, 3, 4]\n",
        "squares = [x ** 2 for x in nums]\n",
        "print(squares)       # Prints [0, 1, 4, 9, 16]"
      ],
      "metadata": {
        "colab": {
          "base_uri": "https://localhost:8080/"
        },
        "id": "cCyNPq_RvD4M",
        "outputId": "a85ea11d-5be7-4486-a568-e356176e2f4e"
      },
      "execution_count": 13,
      "outputs": [
        {
          "output_type": "stream",
          "name": "stdout",
          "text": [
            "[0, 1, 4, 9, 16]\n"
          ]
        }
      ]
    },
    {
      "cell_type": "code",
      "source": [
        "# Page 31: Dictionaries\n",
        "\n",
        "d = {'cat': 'cute', 'dog': 'furry'}  # Create a new dictionary with some data\n",
        "print(d['cat'])       # Get an entry from a dictionary; prints \"cute\"\n",
        "print('cat' in d)     # Check if a dictionary has a given key; print \"True\"\n",
        "d['fish'] = 'wet'     # Set an entry in a dictionary\n",
        "print(d['fish'])      # Print \"wet\"\n",
        "# print(d['monkey'])  # KeyError: 'monkey' not a key of d\n",
        "print(d.get('monkey', 'N/A'))  # Get an element with a default; print \"N/A\"\n",
        "print(d.get('fish', 'N/A'))    # Get an element with a default; print \"wet\"\n",
        "del d['fish']                  # Remove an element from a dictionary\n",
        "print(d.get('fish', 'N/A'))    # \"fish\" is no longer a key; print \"N/A\"\n",
        "item = d.pop('cat')   # Remove the item with key 'cat' from the dictionary\n",
        "print(item)           # Print \"cute\"\n",
        "print(d)              # Print {'dog': 'furry'}"
      ],
      "metadata": {
        "colab": {
          "base_uri": "https://localhost:8080/"
        },
        "id": "xVuRzKJOvOWL",
        "outputId": "25e65b66-38fe-41d5-8a78-8a4d230026b9"
      },
      "execution_count": 14,
      "outputs": [
        {
          "output_type": "stream",
          "name": "stdout",
          "text": [
            "cute\n",
            "True\n",
            "wet\n",
            "N/A\n",
            "wet\n",
            "N/A\n",
            "cute\n",
            "{'dog': 'furry'}\n"
          ]
        }
      ]
    },
    {
      "cell_type": "code",
      "source": [
        "# Page 35: Sets\n",
        "\n",
        "animals = {'cat', 'dog'}\n",
        "print('cat' in animals)   # Check if an element is in a set; prints \"True\"\n",
        "print('fish' in animals)  # Print \"False\"\n",
        "animals.add('fish')       # Add an element to a set\n",
        "print('fish' in animals)  # Print \"True\"\n",
        "print(len(animals))       # Number of elements in a set; prints \"3\"\n",
        "animals.add('cat')        # Adding an element that is already in the set\n",
        "                          # does nothing\n",
        "print(len(animals))       # Print \"3\"\n",
        "animals.remove('cat')     # Remove an element from a set\n",
        "print(len(animals))       # Print \"2\""
      ],
      "metadata": {
        "colab": {
          "base_uri": "https://localhost:8080/"
        },
        "id": "cNw4YIOGvU1f",
        "outputId": "63319406-8564-4ea8-fb8e-b15770432160"
      },
      "execution_count": 15,
      "outputs": [
        {
          "output_type": "stream",
          "name": "stdout",
          "text": [
            "True\n",
            "False\n",
            "True\n",
            "3\n",
            "3\n",
            "2\n"
          ]
        }
      ]
    },
    {
      "cell_type": "code",
      "source": [
        "# Page 38: Tuples\n",
        "\n",
        "d = {(x, x + 1): x for x in range(10)}  # Create a dictionary with tuple keys\n",
        "t = (5, 6)        # Create a tuple\n",
        "print(type(t))    # Print \"<class 'tuple'>\"\n",
        "print(d[t])       # Print \"5\"\n",
        "print(d[(1, 2)])  # Print \"1\""
      ],
      "metadata": {
        "colab": {
          "base_uri": "https://localhost:8080/"
        },
        "id": "cwiTI7_hvgbZ",
        "outputId": "6f9db041-c29b-480e-a092-57f93dc3887d"
      },
      "execution_count": 16,
      "outputs": [
        {
          "output_type": "stream",
          "name": "stdout",
          "text": [
            "<class 'tuple'>\n",
            "5\n",
            "1\n"
          ]
        }
      ]
    },
    {
      "cell_type": "code",
      "source": [
        "# Page 40: Parallel Iteration\n",
        "\n",
        "fruits = ['apple', 'peach', 'banana', 'guava', 'papaya']\n",
        "colors = ['red', 'pink', 'yellow', 'green', 'orange']\n",
        "\n",
        "for name, color in zip(fruits, colors):\n",
        "    print(name, 'is', color)\n",
        "    \n",
        "# It prints\n",
        "# apple is red\n",
        "# peach is pink\n",
        "# banana is yellow\n",
        "# guava is green\n",
        "# papaya is orange"
      ],
      "metadata": {
        "colab": {
          "base_uri": "https://localhost:8080/"
        },
        "id": "KcNtAmLtvrJV",
        "outputId": "1c9116de-4a18-4592-cb1b-7c5d3854560c"
      },
      "execution_count": 17,
      "outputs": [
        {
          "output_type": "stream",
          "name": "stdout",
          "text": [
            "apple is red\n",
            "peach is pink\n",
            "banana is yellow\n",
            "guava is green\n",
            "papaya is orange\n"
          ]
        }
      ]
    },
    {
      "cell_type": "code",
      "source": [
        "# Page 41: Functions\n",
        "\n",
        "def sign(x):\n",
        "    if x > 0:\n",
        "        return 'positive'\n",
        "    elif x < 0:\n",
        "        return 'negative'\n",
        "    else:\n",
        "        return 'zero'\n",
        "        \n",
        "for x in [-1, 0, 1]:\n",
        "    print(sign(x))"
      ],
      "metadata": {
        "colab": {
          "base_uri": "https://localhost:8080/"
        },
        "id": "rVjaKxTevxro",
        "outputId": "61ab7ebb-912b-44d6-dc2c-71515de7a16d"
      },
      "execution_count": 18,
      "outputs": [
        {
          "output_type": "stream",
          "name": "stdout",
          "text": [
            "negative\n",
            "zero\n",
            "positive\n"
          ]
        }
      ]
    },
    {
      "cell_type": "code",
      "source": [
        "# Page 42: Functions\n",
        "\n",
        "def assign_word():\n",
        "  global word\n",
        "  word = \"cool\"\n",
        "\n",
        "assign_word()\n",
        "\n",
        "# Print \"Desmond is really cool\"\n",
        "print(\"Desmond is really \" + word)"
      ],
      "metadata": {
        "colab": {
          "base_uri": "https://localhost:8080/"
        },
        "id": "x9VwTmUSv24T",
        "outputId": "ba35fe98-6225-4f72-b30f-7e1d61dee4ee"
      },
      "execution_count": 19,
      "outputs": [
        {
          "output_type": "stream",
          "name": "stdout",
          "text": [
            "Desmond is really cool\n"
          ]
        }
      ]
    },
    {
      "cell_type": "code",
      "source": [
        "# Page 43: Functions\n",
        "\n",
        "def print_kids(*kids):\n",
        "  print(\"The youngest child is \" + kids[2])\n",
        "  \n",
        "# Print \"The youngest child is John\"\n",
        "print_kids(\"Desmond\", \"Peter\", \"John\")"
      ],
      "metadata": {
        "colab": {
          "base_uri": "https://localhost:8080/"
        },
        "id": "UofYhXsqv77A",
        "outputId": "aa29a2b2-1dd7-4d66-c899-b034be64fea9"
      },
      "execution_count": 20,
      "outputs": [
        {
          "output_type": "stream",
          "name": "stdout",
          "text": [
            "The youngest child is John\n"
          ]
        }
      ]
    },
    {
      "cell_type": "code",
      "source": [
        "# Page 44: Functions\n",
        "\n",
        "def print_kid(**kid):\n",
        "  print(\"His first name is \" + kid[\"fname\"] + \", last name is \" + kid[\"lname\"])\n",
        "\n",
        "# Print \"His first name is Desmond, last name is Tsoi\"\n",
        "print_kid(fname = \"Desmond\", lname = \"Tsoi\")"
      ],
      "metadata": {
        "colab": {
          "base_uri": "https://localhost:8080/"
        },
        "id": "MuY_ReUgwAfT",
        "outputId": "a4c23bf7-cea8-49bc-d6a8-0940d180f1f1"
      },
      "execution_count": 21,
      "outputs": [
        {
          "output_type": "stream",
          "name": "stdout",
          "text": [
            "His first name is Desmond, last name is Tsoi\n"
          ]
        }
      ]
    },
    {
      "cell_type": "code",
      "source": [
        "# Page 45: Functions\n",
        "\n",
        "def hello(name, loud=False):\n",
        "    if loud:\n",
        "        print('HELLO, %s!' % name.upper())\n",
        "    else:\n",
        "        print('Hello, %s' % name)\n",
        "\n",
        "hello('Bob')              # Print \"Hello, Bob\"\n",
        "hello('Fred', loud=True)  # Print \"HELLO, FRED!\""
      ],
      "metadata": {
        "colab": {
          "base_uri": "https://localhost:8080/"
        },
        "id": "NAm7c0WIwENm",
        "outputId": "82c467fc-ea82-47b1-e4c6-af15caea97b0"
      },
      "execution_count": 22,
      "outputs": [
        {
          "output_type": "stream",
          "name": "stdout",
          "text": [
            "Hello, Bob\n",
            "HELLO, FRED!\n"
          ]
        }
      ]
    },
    {
      "cell_type": "code",
      "source": [
        "# Page 50: Example\n",
        "\n",
        "class Person(object):\n",
        "  def __init__(self, name='Tom',\n",
        "                     age=18,\n",
        "                     gender='M'):\n",
        "    self.__name = name\n",
        "    self.__age = age\n",
        "    self.__gender = gender\n",
        "\n",
        "  def get_name(self):\n",
        "    return self.__name\n",
        "\n",
        "  def get_age(self):\n",
        "    return self.__age\n",
        "\n",
        "  def get_gender(self):\n",
        "    return self.__gender\n",
        "\n",
        "  def set_name(self, name):\n",
        "    self.__name = name\n",
        "\n",
        "  def set_age(self, age):\n",
        "    self.__age = age\n",
        "    \n",
        "  def set_gender(self, gender):\n",
        "    self.__gender = gender\n",
        "\n",
        "  def print(self):\n",
        "    print('--- Print Person ---')\n",
        "    print('Name: ' + self.__name + ' ')\n",
        "    print('Age: ' + str(self.__age) + ' ')\n",
        "    print('Gender: ' + self.__gender)\n",
        "\n",
        "desmond = Person('Haha', 18, 'M')\n",
        "print('Name: ' + desmond.get_name())\n",
        "print('Age: ' + str(desmond.get_age()))\n",
        "print('Gender: ' + desmond.get_gender())\n",
        "desmond.set_name('Desmond')\n",
        "desmond.set_age(19)\n",
        "desmond.print()"
      ],
      "metadata": {
        "colab": {
          "base_uri": "https://localhost:8080/"
        },
        "id": "ibvDIj-UwQLh",
        "outputId": "17b74db7-3530-4f8b-e274-de30cf81aab1"
      },
      "execution_count": 23,
      "outputs": [
        {
          "output_type": "stream",
          "name": "stdout",
          "text": [
            "Name: Haha\n",
            "Age: 18\n",
            "Gender: M\n",
            "--- Print Person ---\n",
            "Name: Desmond \n",
            "Age: 19 \n",
            "Gender: M\n"
          ]
        }
      ]
    },
    {
      "cell_type": "code",
      "source": [
        ""
      ],
      "metadata": {
        "id": "1l0WGzAowYwx"
      },
      "execution_count": null,
      "outputs": []
    }
  ]
}