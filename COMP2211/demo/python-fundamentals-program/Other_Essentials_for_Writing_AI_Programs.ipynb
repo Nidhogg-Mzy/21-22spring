{
  "nbformat": 4,
  "nbformat_minor": 0,
  "metadata": {
    "colab": {
      "name": "Other-Essentials-for-Writing-AI-Programs.ipynb",
      "provenance": [],
      "collapsed_sections": []
    },
    "kernelspec": {
      "name": "python3",
      "display_name": "Python 3"
    },
    "language_info": {
      "name": "python"
    }
  },
  "cells": [
    {
      "cell_type": "code",
      "execution_count": 1,
      "metadata": {
        "colab": {
          "base_uri": "https://localhost:8080/"
        },
        "id": "KNS03DZTwm_j",
        "outputId": "3c64010c-a827-4127-ec74-d27abf0ad84b"
      },
      "outputs": [
        {
          "output_type": "stream",
          "name": "stdout",
          "text": [
            "<class 'numpy.ndarray'>\n",
            "(3,)\n",
            "1 2 3\n",
            "[5 2 3]\n",
            "(2, 3)\n",
            "1 2 4\n"
          ]
        }
      ],
      "source": [
        "# Page 63: Arrays\n",
        "\n",
        "import numpy as np\n",
        "\n",
        "a = np.array([1, 2, 3])            # Create a rank 1 array\n",
        "print(type(a))                     # Print \"<class 'numpy.ndarray'>\"\n",
        "print(a.shape)                     # Print \"(3,)\"\n",
        "print(a[0], a[1], a[2])            # Print \"1 2 3\"\n",
        "a[0] = 5                           # Change an element of the array\n",
        "print(a)                           # Print \"[5, 2, 3]\"\n",
        "b = np.array([[1,2,3],[4,5,6]])    # Create a rank 2 array\n",
        "print(b.shape)                     # Print \"(2, 3)\"\n",
        "print(b[0, 0], b[0, 1], b[1, 0])   # Print \"1 2 4\""
      ]
    },
    {
      "cell_type": "code",
      "source": [
        "# Page 64: Arrays\n",
        "\n",
        "import numpy as np\n",
        "\n",
        "a = np.zeros((2,2))          # Create an array of all zeros\n",
        "print(a)                     # Print \"[[ 0.  0.]\n",
        "                             #         [ 0.  0.]]\"\n",
        "b = np.ones((1,2))           # Create an array of all ones\n",
        "print(b)                     # Print \"[[ 1.  1.]]\"\n",
        "\n",
        "c = np.full((2,2), 7)        # Create a constant array\n",
        "print(c)                     # Print \"[[ 7.  7.]\n",
        "                             #         [ 7.  7.]]\"\n",
        "d = np.eye(2)                # Create a 2x2 identity matrix\n",
        "print(d)                     # Print \"[[ 1.  0.]\n",
        "                             #         [ 0.  1.]]\"\n",
        "e = np.random.random((2,2))  # Create an array filled with random values\n",
        "print(e)                     # Might print \"[[ 0.91940167  0.08143941]\n",
        "                             #               [ 0.68744134  0.87236687]]\""
      ],
      "metadata": {
        "colab": {
          "base_uri": "https://localhost:8080/"
        },
        "id": "rgxqLCMaw1sG",
        "outputId": "0bfd5907-37ee-46c5-be68-4cf0d6f2cbb2"
      },
      "execution_count": 2,
      "outputs": [
        {
          "output_type": "stream",
          "name": "stdout",
          "text": [
            "[[0. 0.]\n",
            " [0. 0.]]\n",
            "[[1. 1.]]\n",
            "[[7 7]\n",
            " [7 7]]\n",
            "[[1. 0.]\n",
            " [0. 1.]]\n",
            "[[0.60718701 0.98232804]\n",
            " [0.94894137 0.90994507]]\n"
          ]
        }
      ]
    },
    {
      "cell_type": "code",
      "source": [
        "# Page 66: Array Indexing\n",
        "\n",
        "import numpy as np\n",
        "\n",
        "# Create the following rank 2 array with shape (3, 4)\n",
        "# [[1  2  3  4]\n",
        "#  [5  6  7  8]\n",
        "#  [9 10 11 12]]\n",
        "a = np.array([[1,2,3,4], [5,6,7,8], [9,10,11,12]])\n",
        "# Use slicing to pull out the subarray consisting of the first 2 rows\n",
        "# and columns 1 and 2; b is the following array of shape (2, 2):\n",
        "# [[2 3]\n",
        "#  [6 7]]\n",
        "b = a[:2, 1:3]\n",
        "# A slice of an array is a view into the same data, so modifying it\n",
        "# will modify the original array.\n",
        "print(a[0, 1])   # Prints \"2\"\n",
        "b[0, 0] = 77     # b[0, 0] is the same piece of data as a[0, 1]\n",
        "print(a[0, 1])   # Prints \"77\""
      ],
      "metadata": {
        "colab": {
          "base_uri": "https://localhost:8080/"
        },
        "id": "pF4xheiQw-lK",
        "outputId": "580c4ccc-99dc-4612-a22c-bdee3da9f0ad"
      },
      "execution_count": 3,
      "outputs": [
        {
          "output_type": "stream",
          "name": "stdout",
          "text": [
            "2\n",
            "77\n"
          ]
        }
      ]
    },
    {
      "cell_type": "code",
      "source": [
        "# Page 67: Array Indexing\n",
        "\n",
        "import numpy as np\n",
        "\n",
        "# Create the following rank 2 array with shape (3, 4)\n",
        "# [[ 1  2  3  4]\n",
        "#  [ 5  6  7  8]\n",
        "#  [ 9 10 11 12]]\n",
        "a = np.array([[1,2,3,4], [5,6,7,8], [9,10,11,12]])\n",
        "\n",
        "# Mixing integer indexing with slices yields an array of lower rank, \n",
        "# while using only slices yields an array of same rank as the original array:\n",
        "row_r1 = a[1, :]    # Rank 1 view of the second row of a\n",
        "row_r2 = a[1:2, :]  # Rank 2 view of the second row of a\n",
        "print(row_r1, row_r1.shape)  # Prints \"[5 6 7 8] (4,)\"\n",
        "print(row_r2, row_r2.shape)  # Prints \"[[5 6 7 8]] (1, 4)\"\n",
        "\n",
        "# We can make the same distinction when accessing columns of an array:\n",
        "col_r1 = a[:, 1]\n",
        "col_r2 = a[:, 1:2]\n",
        "print(col_r1, col_r1.shape)  # Prints \"[ 2  6 10] (3,)\"\n",
        "print(col_r2, col_r2.shape)  # Prints \"[[ 2]\n",
        "                             #          [ 6]\n",
        "                             #          [10]] (3, 1)\""
      ],
      "metadata": {
        "colab": {
          "base_uri": "https://localhost:8080/"
        },
        "id": "W5v6kT2exEvM",
        "outputId": "01db4de0-1d54-4e22-b387-f15f32f61a4f"
      },
      "execution_count": 4,
      "outputs": [
        {
          "output_type": "stream",
          "name": "stdout",
          "text": [
            "[5 6 7 8] (4,)\n",
            "[[5 6 7 8]] (1, 4)\n",
            "[ 2  6 10] (3,)\n",
            "[[ 2]\n",
            " [ 6]\n",
            " [10]] (3, 1)\n"
          ]
        }
      ]
    },
    {
      "cell_type": "code",
      "source": [
        "# Page 69: Integer Array Indexing\n",
        "\n",
        "import numpy as np\n",
        "\n",
        "a = np.array([[1,2], [3, 4], [5, 6]])\n",
        "\n",
        "# An example of integer array indexing.\n",
        "# The returned array will have shape (3,) and\n",
        "print(a[[0, 1, 2], [0, 1, 0]])  # Prints \"[1 4 5]\"\n",
        "\n",
        "# The above example of integer array indexing is equivalent to this:\n",
        "print(np.array([a[0, 0], a[1, 1], a[2, 0]]))  # Prints \"[1 4 5]\"\n",
        "\n",
        "# When using integer array indexing, you can reuse the same\n",
        "# element from the source array:\n",
        "print(a[[0, 0], [1, 1]])  # Prints \"[2 2]\"\n",
        "\n",
        "# Equivalent to the previous integer array indexing example\n",
        "print(np.array([a[0, 1], a[0, 1]]))  # Prints \"[2 2]\""
      ],
      "metadata": {
        "colab": {
          "base_uri": "https://localhost:8080/"
        },
        "id": "6jrKyGAXxLhm",
        "outputId": "32ece073-40d3-4cf3-f637-f4d6884f7d1c"
      },
      "execution_count": 5,
      "outputs": [
        {
          "output_type": "stream",
          "name": "stdout",
          "text": [
            "[1 4 5]\n",
            "[1 4 5]\n",
            "[2 2]\n",
            "[2 2]\n"
          ]
        }
      ]
    },
    {
      "cell_type": "code",
      "source": [
        "# Page 70: Integer Array Indexing\n",
        "\n",
        "import numpy as np\n",
        "\n",
        "# Create a new array from which we will select elements\n",
        "a = np.array([[1,2,3], [4,5,6], [7,8,9], [10, 11, 12]])\n",
        "\n",
        "print(a)  # prints \"array([[ 1,  2,  3],\n",
        "          #                [ 4,  5,  6],\n",
        "          #                [ 7,  8,  9],\n",
        "          #                [10, 11, 12]])\"\n",
        "\n",
        "# Create an array of indices\n",
        "b = np.array([0, 2, 0, 1])\n",
        "# Select one element from each row of a using the indices in b\n",
        "print(a[np.arange(4), b])  # Prints \"[ 1  6  7 11]\"\n",
        "# Mutate one element from each row of a using the indices in b\n",
        "a[np.arange(4), b] += 10\n",
        "\n",
        "print(a)  # prints \"array([[11,  2,  3],\n",
        "          #                [ 4,  5, 16],\n",
        "          #                [17,  8,  9],\n",
        "          #                [10, 21, 12]])\""
      ],
      "metadata": {
        "colab": {
          "base_uri": "https://localhost:8080/"
        },
        "id": "UbUeKlq3xSw4",
        "outputId": "9343c74b-43f4-4cca-d515-d19e1704d017"
      },
      "execution_count": 6,
      "outputs": [
        {
          "output_type": "stream",
          "name": "stdout",
          "text": [
            "[[ 1  2  3]\n",
            " [ 4  5  6]\n",
            " [ 7  8  9]\n",
            " [10 11 12]]\n",
            "[ 1  6  7 11]\n",
            "[[11  2  3]\n",
            " [ 4  5 16]\n",
            " [17  8  9]\n",
            " [10 21 12]]\n"
          ]
        }
      ]
    },
    {
      "cell_type": "code",
      "source": [
        "# Page 71: Boolean Array Indexing\n",
        "\n",
        "import numpy as np\n",
        "\n",
        "a = np.array([[1,2], [3, 4], [5, 6]])\n",
        "\n",
        "bool_idx = (a > 2)   # Find the elements of a that are bigger than 2; this returns a numpy \n",
        "                     # array of Booleans of the same shape as a, where each slot of bool_idx tells\n",
        "                     # whether that element of a is > 2.\n",
        "\n",
        "print(bool_idx)      # Prints \"[[False False]\n",
        "                     #          [ True  True]\n",
        "                     #          [ True  True]]\"\n",
        "\n",
        "# We use boolean array indexing to construct a rank 1 array consisting of the elements of a \n",
        "# corresponding to the True values of bool_idx\n",
        "print(a[bool_idx])  # Prints \"[3 4 5 6]\"\n",
        "\n",
        "# We can do all of the above in a single concise statement:\n",
        "print(a[a > 2])     # Prints \"[3 4 5 6]\""
      ],
      "metadata": {
        "colab": {
          "base_uri": "https://localhost:8080/"
        },
        "id": "sA7zwKLMxaBv",
        "outputId": "80bf463c-a115-4326-ea42-e8d34e7d6571"
      },
      "execution_count": 7,
      "outputs": [
        {
          "output_type": "stream",
          "name": "stdout",
          "text": [
            "[[False False]\n",
            " [ True  True]\n",
            " [ True  True]]\n",
            "[3 4 5 6]\n",
            "[3 4 5 6]\n"
          ]
        }
      ]
    },
    {
      "cell_type": "code",
      "source": [
        "# Page 72: Datatypes\n",
        "\n",
        "import numpy as np\n",
        "\n",
        "x = np.array([1, 2])   # Let numpy choose the datatype\n",
        "print(x.dtype)         # Prints \"int64\"\n",
        "\n",
        "x = np.array([1.0, 2.0])   # Let numpy choose the datatype\n",
        "print(x.dtype)             # Prints \"float64\"\n",
        "\n",
        "x = np.array([1, 2], dtype=np.int64)   # Force a particular datatype\n",
        "print(x.dtype)                         # Prints \"int64\""
      ],
      "metadata": {
        "colab": {
          "base_uri": "https://localhost:8080/"
        },
        "id": "cRcPjKIbxfs4",
        "outputId": "6953d9aa-2256-4941-c6ba-e172228b24f0"
      },
      "execution_count": 8,
      "outputs": [
        {
          "output_type": "stream",
          "name": "stdout",
          "text": [
            "int64\n",
            "float64\n",
            "int64\n"
          ]
        }
      ]
    },
    {
      "cell_type": "code",
      "source": [
        "# Page 73: Array Math\n",
        "\n",
        "import numpy as np\n",
        "\n",
        "x = np.array([[1,2],[3,4]], dtype=np.float64)\n",
        "y = np.array([[5,6],[7,8]], dtype=np.float64)\n",
        "\n",
        "# Elementwise sum; both produce the array\n",
        "# [[ 6.0  8.0]\n",
        "#  [10.0 12.0]]\n",
        "print(x + y)\n",
        "print(np.add(x, y))\n",
        "\n",
        "# Elementwise difference; both produce the array\n",
        "# [[-4.0 -4.0]\n",
        "#  [-4.0 -4.0]]\n",
        "print(x - y)\n",
        "print(np.subtract(x, y))\n",
        "\n",
        "# Elementwise product; both produce the array\n",
        "# [[ 5.0 12.0]\n",
        "#  [21.0 32.0]]\n",
        "print(x * y)\n",
        "print(np.multiply(x, y))\n",
        "\n",
        "# Elementwise division; both produce the array\n",
        "# [[ 0.2         0.33333333]\n",
        "#  [ 0.42857143  0.5       ]]\n",
        "print(x / y)\n",
        "print(np.divide(x, y))\n",
        "\n",
        "# Elementwise square root; produces the array\n",
        "# [[ 1.          1.41421356]\n",
        "#  [ 1.73205081  2.        ]]\n",
        "print(np.sqrt(x))"
      ],
      "metadata": {
        "colab": {
          "base_uri": "https://localhost:8080/"
        },
        "id": "SmWy-WaXxk80",
        "outputId": "f69c78dc-1a11-429f-86df-b210e3a4885e"
      },
      "execution_count": 9,
      "outputs": [
        {
          "output_type": "stream",
          "name": "stdout",
          "text": [
            "[[ 6.  8.]\n",
            " [10. 12.]]\n",
            "[[ 6.  8.]\n",
            " [10. 12.]]\n",
            "[[-4. -4.]\n",
            " [-4. -4.]]\n",
            "[[-4. -4.]\n",
            " [-4. -4.]]\n",
            "[[ 5. 12.]\n",
            " [21. 32.]]\n",
            "[[ 5. 12.]\n",
            " [21. 32.]]\n",
            "[[0.2        0.33333333]\n",
            " [0.42857143 0.5       ]]\n",
            "[[0.2        0.33333333]\n",
            " [0.42857143 0.5       ]]\n",
            "[[1.         1.41421356]\n",
            " [1.73205081 2.        ]]\n"
          ]
        }
      ]
    },
    {
      "cell_type": "code",
      "source": [
        "# Page 76: Array Math\n",
        "\n",
        "import numpy as np\n",
        "\n",
        "x = np.array([[1,2],[3,4]])\n",
        "y = np.array([[5,6],[7,8]])\n",
        "v = np.array([9,10])\n",
        "w = np.array([11, 12])\n",
        "\n",
        "# Inner product of vectors; both produce 219\n",
        "print(v.dot(w))\n",
        "print(np.dot(v, w))\n",
        "\n",
        "# Matrix / vector product; both produce the rank 1 array [29 67]\n",
        "print(x.dot(v))\n",
        "print(np.dot(x, v))\n",
        "\n",
        "# Matrix / matrix product; both produce the rank 2 array\n",
        "# [[19 22]\n",
        "#  [43 50]]\n",
        "print(x.dot(y))\n",
        "print(np.dot(x, y))"
      ],
      "metadata": {
        "colab": {
          "base_uri": "https://localhost:8080/"
        },
        "id": "xxYaPPOwxrc7",
        "outputId": "cc6a5ba5-ef65-4344-b150-e8f17ddc04cb"
      },
      "execution_count": 10,
      "outputs": [
        {
          "output_type": "stream",
          "name": "stdout",
          "text": [
            "219\n",
            "219\n",
            "[29 67]\n",
            "[29 67]\n",
            "[[19 22]\n",
            " [43 50]]\n",
            "[[19 22]\n",
            " [43 50]]\n"
          ]
        }
      ]
    },
    {
      "cell_type": "code",
      "source": [
        "# Page 77: Numpy Functions\n",
        "\n",
        "import numpy as np\n",
        "\n",
        "x = np.array([[1,2],[3,4]])\n",
        "\n",
        "print(np.sum(x))          # Compute sum of all elements; prints \"10\"\n",
        "print(np.sum(x, axis=0))  # Compute sum of each column; prints \"[4 6]\"\n",
        "print(np.sum(x, axis=1))  # Compute sum of each row; prints \"[3 7]\""
      ],
      "metadata": {
        "colab": {
          "base_uri": "https://localhost:8080/"
        },
        "id": "i1OMRW8vxw1T",
        "outputId": "4bccc4b3-bfc5-4ca5-84ea-28426c0a9460"
      },
      "execution_count": 11,
      "outputs": [
        {
          "output_type": "stream",
          "name": "stdout",
          "text": [
            "10\n",
            "[4 6]\n",
            "[3 7]\n"
          ]
        }
      ]
    },
    {
      "cell_type": "code",
      "source": [
        "# Page 78: Transpose\n",
        "\n",
        "import numpy as np\n",
        "\n",
        "x = np.array([[1,2], [3,4]])\n",
        "print(x)    # Print \"[[1 2]\n",
        "            #         [3 4]]\"\n",
        "print(x.T)  # Print \"[[1 3]\n",
        "            #         [2 4]]\"\n",
        "\n",
        "# Note that taking the transpose of a rank 1 array does nothing:\n",
        "v = np.array([1,2,3])\n",
        "print(v)    # Print \"[1 2 3]\"\n",
        "print(v.T)  # Print \"[1 2 3]\""
      ],
      "metadata": {
        "colab": {
          "base_uri": "https://localhost:8080/"
        },
        "id": "46ToE5dnx2xB",
        "outputId": "299053cd-8c72-47b2-e728-7868ff029eba"
      },
      "execution_count": 12,
      "outputs": [
        {
          "output_type": "stream",
          "name": "stdout",
          "text": [
            "[[1 2]\n",
            " [3 4]]\n",
            "[[1 3]\n",
            " [2 4]]\n",
            "[1 2 3]\n",
            "[1 2 3]\n"
          ]
        }
      ]
    },
    {
      "cell_type": "code",
      "source": [
        "# Page 82: Broadcasting\n",
        "\n",
        "import numpy as np\n",
        "\n",
        "# We will add the vector v to each row of the matrix x,\n",
        "# storing the result in the matrix y\n",
        "x = np.array([[1,2,3], [4,5,6], [7,8,9], [10, 11, 12]])\n",
        "v = np.array([1, 0, 1])\n",
        "y = x + v  # Add v to each row of x using broadcasting\n",
        "print(y)   # Prints \"[[ 2  2  4]\n",
        "           #          [ 5  5  7]\n",
        "           #          [ 8  8 10]\n",
        "           #          [11 11 13]]\""
      ],
      "metadata": {
        "colab": {
          "base_uri": "https://localhost:8080/"
        },
        "id": "MAZrmSGMx-B2",
        "outputId": "1faa7a20-25cc-49b3-c95c-17391a67e37f"
      },
      "execution_count": 13,
      "outputs": [
        {
          "output_type": "stream",
          "name": "stdout",
          "text": [
            "[[ 2  2  4]\n",
            " [ 5  5  7]\n",
            " [ 8  8 10]\n",
            " [11 11 13]]\n"
          ]
        }
      ]
    },
    {
      "cell_type": "code",
      "source": [
        "# Page 84: Understanding Broadcasting Rules\n",
        "\n",
        "A1 = np.array([1, 2, 3])\n",
        "print(A1.ndim)     # Print 1\n",
        "B1 = np.array([2])\n",
        "print(B1.ndim)     # Print 1\n",
        "print(A1 * B1)     # Pring \"[2, 4, 6]\""
      ],
      "metadata": {
        "colab": {
          "base_uri": "https://localhost:8080/"
        },
        "id": "hPU3j-35yHpL",
        "outputId": "ad9ffe92-bc7f-4a0b-844b-b580e3393e02"
      },
      "execution_count": 14,
      "outputs": [
        {
          "output_type": "stream",
          "name": "stdout",
          "text": [
            "1\n",
            "1\n",
            "[2 4 6]\n"
          ]
        }
      ]
    },
    {
      "cell_type": "code",
      "source": [
        "# Page 85: Understanding Broadcasting Rules\n",
        "\n",
        "A2 = np.array([1, 2, 3])\n",
        "print(A2.ndim)  # Print 1\n",
        "B2 = np.array([[4, 4, 4], [3, 3, 3]])\n",
        "print(B2.ndim)  # Print 2\n",
        "\n",
        "print(A2*B2)    # Print [[4 8 12]\n",
        "                #        [3 6 9]]"
      ],
      "metadata": {
        "colab": {
          "base_uri": "https://localhost:8080/"
        },
        "id": "M1SUVPb1ySFL",
        "outputId": "6708eb45-0ef1-404c-948e-6cbf290118cd"
      },
      "execution_count": 15,
      "outputs": [
        {
          "output_type": "stream",
          "name": "stdout",
          "text": [
            "1\n",
            "2\n",
            "[[ 4  8 12]\n",
            " [ 3  6  9]]\n"
          ]
        }
      ]
    },
    {
      "cell_type": "code",
      "source": [
        "# Page 88: Memory Consumption Between Numpy Arrays and Lists\n",
        "\n",
        "import numpy as np      # Import numpy package\n",
        "import sys              # Import system module\n",
        "\n",
        "L = range(1000)         # Declare a list of 1000 elements\n",
        "\n",
        "# Print size of each element of the list\n",
        "print(\"Size of each element of list in bytes: \", sys.getsizeof(L))  # Print 48\n",
        "# Print size of the whole list\n",
        "print(\"Size of the whole list in bytes: \", sys.getsizeof(L)*len(L)) # Print 48000\n",
        "\n",
        "A = np.arange(1000)     # Declare a Numpy array of 1000 elements\n",
        "\n",
        "# Print size of each element of the Numpy array\n",
        "print(\"Size of each element of the Numpy array in bytes: \", A.itemsize) # Print 8\n",
        "# Print size of the whole Numpy array\n",
        "print(\"Size of the whole Numpy array in bytes: \", A.size*A.itemsize) # Print 8000"
      ],
      "metadata": {
        "colab": {
          "base_uri": "https://localhost:8080/"
        },
        "id": "e4dv788Kybcj",
        "outputId": "86cf182d-702d-4ea3-dfde-b675fb35d7b0"
      },
      "execution_count": 16,
      "outputs": [
        {
          "output_type": "stream",
          "name": "stdout",
          "text": [
            "Size of each element of list in bytes:  48\n",
            "Size of the whole list in bytes:  48000\n",
            "Size of each element of the Numpy array in bytes:  8\n",
            "Size of the whole Numpy array in bytes:  8000\n"
          ]
        }
      ]
    },
    {
      "cell_type": "code",
      "source": [
        "# Page 89: Time Comparison Between Numpy Arrays and Python Lists\n",
        "\n",
        "import numpy as np       # Import required packages\n",
        "import time as t\n",
        "\n",
        "size = 1000000           # Size of arrays and lists\n",
        "\n",
        "list1 = range(size)      # Declare lists\n",
        "list2 = range(size)\n",
        "array1 = np.arange(size) # Declare arrays\n",
        "array2 = np.arange(size)\n",
        "\n",
        "# Capture time before the multiplication of Python lists\n",
        "initialTime = t.time()\n",
        "# Multiply elements of both the lists and stored in another list\n",
        "resultList = [(a * b) for a, b in zip(list1, list2)]\n",
        "# Calculate execution time, it prints \"Time taken by Lists: 0.13024258613586426 s\"\n",
        "print(\"Time taken by Lists:\", (t.time() - initialTime), \"s\")\n",
        "\n",
        "# Capture time before the multiplication of Numpy arrays\n",
        "initialTime = t.time()\n",
        "# Multiply elements of both the Numpy arrays and stored in another Numpy array\n",
        "resultArray = array1 * array2\n",
        "# Calculate execution time, it prints \"Time taken by NumPy Arrays: 0.006006956100463867 s\"\n",
        "print(\"Time taken by NumPy Arrays:\", (t.time() - initialTime), \"s\")"
      ],
      "metadata": {
        "colab": {
          "base_uri": "https://localhost:8080/"
        },
        "id": "qlVKewlByi62",
        "outputId": "e503433d-4990-4233-ea34-e2d1a4ce1746"
      },
      "execution_count": 17,
      "outputs": [
        {
          "output_type": "stream",
          "name": "stdout",
          "text": [
            "Time taken by Lists: 0.18907904624938965 s\n",
            "Time taken by NumPy Arrays: 0.003999471664428711 s\n"
          ]
        }
      ]
    },
    {
      "cell_type": "code",
      "source": [
        "# Page 90: Effect of Operations on Numpy Arrays and Python Lists\n",
        "\n",
        "import numpy as np # Import Numpy package\n",
        "\n",
        "ls =[1, 2, 3]      # Declare a list\n",
        "arr = np.array(ls) # Convert the list into a Numpy array\n",
        "\n",
        "try:\n",
        "    ls = ls + 4    # Add 4 to each element of list\n",
        "except(TypeError):\n",
        "    print(\"Lists don't support list + int\")\n",
        "\n",
        "# Now on array\n",
        "try:\n",
        "    arr = arr + 4  # Add 4 to each element of Numpy array\n",
        "    print(\"Modified Numpy array: \",arr)  # Print the Numpy array\n",
        "except(TypeError):\n",
        "    print(\"Numpy arrays don't support list + int\")"
      ],
      "metadata": {
        "colab": {
          "base_uri": "https://localhost:8080/"
        },
        "id": "FScqy_O6ysok",
        "outputId": "066418a0-92e5-4722-9e3d-23f1b2a92b54"
      },
      "execution_count": 18,
      "outputs": [
        {
          "output_type": "stream",
          "name": "stdout",
          "text": [
            "Lists don't support list + int\n",
            "Modified Numpy array:  [5 6 7]\n"
          ]
        }
      ]
    }
  ]
}