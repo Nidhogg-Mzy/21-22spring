{
  "nbformat": 4,
  "nbformat_minor": 0,
  "metadata": {
    "colab": {
      "name": "K-Nearest-Neighbor-SKLearn-Std-PP.ipynb",
      "provenance": [],
      "collapsed_sections": []
    },
    "kernelspec": {
      "name": "python3",
      "display_name": "Python 3"
    },
    "language_info": {
      "name": "python"
    }
  },
  "cells": [
    {
      "cell_type": "code",
      "execution_count": 2,
      "metadata": {
        "colab": {
          "base_uri": "https://localhost:8080/"
        },
        "id": "Jl28LGOsQEUX",
        "outputId": "2b0a3483-577b-45a2-c842-81e91420880f"
      },
      "outputs": [
        {
          "output_type": "stream",
          "name": "stdout",
          "text": [
            "['No']\n"
          ]
        }
      ],
      "source": [
        "from sklearn.preprocessing import LabelEncoder     # Import LabelEncoder function\n",
        "from sklearn.neighbors import KNeighborsClassifier # Import KNeighborsClassifier function\n",
        "import numpy as np                  # Import NumPy\n",
        "from statistics import mean, stdev  # Import mean and stdev function\n",
        "\n",
        "# Assign features and label variables\n",
        "age = np.array([19, 35, 26, 27, 19, 27, 27, 32, 25, 35, 26, 26, 20, 32, 18, 29, 47, 45, 46, 48, 45, 47])\n",
        "a_mean = np.mean(age)\n",
        "a_std = np.std(age,ddof=1) # ddof=1 is to make the divisor to n-1, i.e., sample mean\n",
        "age = (age - a_mean)/a_std\n",
        "\n",
        "salary = np.array([19, 20, 43, 57, 76, 58, 84, 150, 33, 65, 80, 52, 86, 18, 82, 80, 25, 26, 28, 29, 22, 49])\n",
        "s_mean = np.mean(salary)\n",
        "s_std = np.std(salary,ddof=1) # ddof=1 is to make the divisor to n-1, i.e., sample mean\n",
        "salary = (salary - s_mean)/s_std\n",
        "\n",
        "purchased = np.array(['No', 'No', 'No', 'No', 'No', 'No', 'No', 'Yes', 'No', 'No', 'No', 'No', 'No', 'No', 'No', 'No', 'Yes', 'Yes', 'Yes', 'Yes', 'Yes', 'Yes'])\n",
        "\n",
        "# Create LabelEncoder that used to convert string labels to numbers\n",
        "encoder = LabelEncoder()\n",
        "# Convert string labels into numbers\n",
        "label = encoder.fit_transform(purchased)\n",
        "# Combine height and weight into single list of tuples\n",
        "features = list(zip(age,salary))\n",
        "\n",
        "# Create a KNN classifier and set K=5\n",
        "model = KNeighborsClassifier(n_neighbors=5)\n",
        "# Train the model using the training sets\n",
        "model.fit(features, label)\n",
        "\n",
        "# Predict output\n",
        "predicted = model.predict([[(20-a_mean)/a_std,(38-s_mean)/s_std]]) # age = 20, salary = 38\n",
        "\n",
        "# Convert number to string label\n",
        "predicted = encoder.inverse_transform(predicted)\n",
        "print(predicted)"
      ]
    },
    {
      "cell_type": "code",
      "source": [
        ""
      ],
      "metadata": {
        "id": "JHKKUHKaRIKh"
      },
      "execution_count": null,
      "outputs": []
    }
  ]
}