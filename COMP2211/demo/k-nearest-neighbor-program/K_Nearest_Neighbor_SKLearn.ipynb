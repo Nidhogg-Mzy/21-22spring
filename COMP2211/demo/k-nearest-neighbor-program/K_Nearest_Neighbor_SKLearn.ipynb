{
  "nbformat": 4,
  "nbformat_minor": 0,
  "metadata": {
    "colab": {
      "name": "K-Nearest-Neighbor-SKLearn.ipynb",
      "provenance": [],
      "collapsed_sections": []
    },
    "kernelspec": {
      "name": "python3",
      "display_name": "Python 3"
    },
    "language_info": {
      "name": "python"
    }
  },
  "cells": [
    {
      "cell_type": "code",
      "execution_count": null,
      "metadata": {
        "colab": {
          "base_uri": "https://localhost:8080/"
        },
        "id": "orrlTtk8L9gE",
        "outputId": "a9b5d0c9-96ba-44a1-87b6-46e8efa5c155"
      },
      "outputs": [
        {
          "output_type": "stream",
          "name": "stdout",
          "text": [
            "['M']\n"
          ]
        }
      ],
      "source": [
        "from sklearn.preprocessing import LabelEncoder     # Import LabelEncoder function\n",
        "from sklearn.neighbors import KNeighborsClassifier # Import KNeighborsClassifier function\n",
        "import numpy as np  # Import NumPy\n",
        "\n",
        "# Assign features and label variables\n",
        "height = np.array([158, 158, 158, 160, 160, 163, 163, 160, 163, 165, 165, 165, 168, 168, 168, 170, 170, 170])\n",
        "weight = np.array([58, 59, 63, 59, 60, 60, 61, 64, 64, 61, 62, 65, 62, 63, 66, 63, 64, 68])\n",
        "size = np.array(['M','M','M','M','M','M','M','L','L','L','L','L','L','L','L','L','L','L'])\n",
        "\n",
        "# Create LabelEncoder that used to convert string labels to numbers\n",
        "encoder = LabelEncoder()\n",
        "# Convert string labels into numbers\n",
        "label = encoder.fit_transform(size)\n",
        "# Combine height and weight into single list of tuples\n",
        "features = list(zip(height,weight))\n",
        "\n",
        "# Create a KNN classifier and set K=5\n",
        "model = KNeighborsClassifier(n_neighbors=5)\n",
        "# Train the model using the training sets\n",
        "model.fit(features, label)\n",
        "\n",
        "# Predict output\n",
        "predicted = model.predict([[161,61]]) # height = 161, weight = 61\n",
        "\n",
        "# Convert number to string label\n",
        "predicted = encoder.inverse_transform(predicted)\n",
        "print(predicted)"
      ]
    },
    {
      "cell_type": "code",
      "source": [
        ""
      ],
      "metadata": {
        "id": "NXLEeYrcN58d"
      },
      "execution_count": null,
      "outputs": []
    }
  ]
}