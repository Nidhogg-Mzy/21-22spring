{
  "nbformat": 4,
  "nbformat_minor": 0,
  "metadata": {
    "colab": {
      "name": "K-Nearest-Neighbor-SKLearn-Std.ipynb",
      "provenance": [],
      "collapsed_sections": []
    },
    "kernelspec": {
      "name": "python3",
      "display_name": "Python 3"
    },
    "language_info": {
      "name": "python"
    }
  },
  "cells": [
    {
      "cell_type": "code",
      "execution_count": null,
      "metadata": {
        "id": "RhIC4oEtTWdk",
        "colab": {
          "base_uri": "https://localhost:8080/"
        },
        "outputId": "eadff332-b703-4622-b961-e249edfa7fa6"
      },
      "outputs": [
        {
          "output_type": "stream",
          "name": "stdout",
          "text": [
            "['M']\n"
          ]
        }
      ],
      "source": [
        "from sklearn.preprocessing import LabelEncoder     # Import LabelEncoder function\n",
        "from sklearn.neighbors import KNeighborsClassifier # Import KNeighborsClassifier function\n",
        "import numpy as np                  # Import NumPy\n",
        "from statistics import mean, stdev  # Import mean and stdev function\n",
        "\n",
        "# Assign features and label variables\n",
        "height = np.array([158, 158, 158, 160, 160, 163, 163, 160, 163, 165, 165, 165, 168, 168, 168, 170, 170, 170])\n",
        "h_mean = np.mean(height)\n",
        "h_std = np.std(height,ddof=1) # ddof=1 is to make the divisor to n-1, i.e., sample mean\n",
        "height = (height - h_mean)/h_std\n",
        "\n",
        "weight = np.array([58, 59, 63, 59, 60, 60, 61, 64, 64, 61, 62, 65, 62, 63, 66, 63, 64, 68])\n",
        "w_mean = np.mean(weight)\n",
        "w_std = np.std(weight,ddof=1) # ddof=1 is to make the divisor to n-1, i.e., sample mean\n",
        "weight = (weight - w_mean)/w_std\n",
        "\n",
        "size = ['M','M','M','M','M','M','M','L','L','L','L','L','L','L','L','L','L','L']\n",
        "\n",
        "# Create LabelEncoder that used to convert string labels to numbers\n",
        "encoder = LabelEncoder()\n",
        "# Convert string labels into numbers\n",
        "label = encoder.fit_transform(size)\n",
        "# Combine height and weight into single list of tuples\n",
        "features = list(zip(height,weight))\n",
        "\n",
        "# Create a KNN classifier and set K=5\n",
        "model = KNeighborsClassifier(n_neighbors=5)\n",
        "# Train the model using the training sets\n",
        "model.fit(features, label)\n",
        "\n",
        "# Predict output\n",
        "predicted = model.predict([[(161-h_mean)/h_std,(61-w_mean)/w_std]]) # height = 161, weight = 61\n",
        "\n",
        "# Convert number to string label\n",
        "predicted = encoder.inverse_transform(predicted)\n",
        "print(predicted)"
      ]
    },
    {
      "cell_type": "code",
      "source": [
        ""
      ],
      "metadata": {
        "id": "gx36CLyq_mOV"
      },
      "execution_count": null,
      "outputs": []
    }
  ]
}