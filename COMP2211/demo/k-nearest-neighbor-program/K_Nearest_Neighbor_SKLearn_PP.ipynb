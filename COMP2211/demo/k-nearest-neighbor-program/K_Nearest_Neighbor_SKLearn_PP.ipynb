{
  "nbformat": 4,
  "nbformat_minor": 0,
  "metadata": {
    "colab": {
      "name": "K-Nearest-Neighbor-SKLearn-PP.ipynb",
      "provenance": [],
      "collapsed_sections": []
    },
    "kernelspec": {
      "name": "python3",
      "display_name": "Python 3"
    },
    "language_info": {
      "name": "python"
    }
  },
  "cells": [
    {
      "cell_type": "code",
      "execution_count": 2,
      "metadata": {
        "colab": {
          "base_uri": "https://localhost:8080/"
        },
        "id": "3fxPNW5GJdc4",
        "outputId": "6cb7eef6-76c4-4bec-bab9-6bcab9d15c9b"
      },
      "outputs": [
        {
          "output_type": "stream",
          "name": "stdout",
          "text": [
            "['No']\n"
          ]
        }
      ],
      "source": [
        "from sklearn.preprocessing import LabelEncoder     # Import LabelEncoder function\n",
        "from sklearn.neighbors import KNeighborsClassifier # Import KNeighborsClassifier function\n",
        "import numpy as np  # Import NumPy\n",
        "\n",
        "# Assign features and label variables\n",
        "age = np.array([19, 35, 26, 27, 19, 27, 27, 32, 25, 35, 26, 26, 20, 32, 18, 29, 47, 45, 46, 48, 45, 47])\n",
        "salary = np.array([19, 20, 43, 57, 76, 58, 84, 150, 33, 65, 80, 52, 86, 18, 82, 80, 25, 26, 28, 29, 22, 49])\n",
        "purchased = np.array(['No', 'No', 'No', 'No', 'No', 'No', 'No', 'Yes', 'No', 'No', 'No', 'No', 'No', 'No', 'No', 'No', 'Yes', 'Yes', 'Yes', 'Yes', 'Yes', 'Yes'])\n",
        "\n",
        "# Create LabelEncoder that used to convert string labels to numbers\n",
        "encoder = LabelEncoder()\n",
        "# Convert string labels into numbers\n",
        "label = encoder.fit_transform(purchased)\n",
        "# Combine height and weight into single list of tuples\n",
        "features = list(zip(age,salary))\n",
        "\n",
        "# Create a KNN classifier and set K=5\n",
        "model = KNeighborsClassifier(n_neighbors=5)\n",
        "# Train the model using the training sets\n",
        "model.fit(features, label)\n",
        "\n",
        "# Predict output\n",
        "predicted = model.predict([[20,38]]) # age = 20, salary = 38\n",
        "\n",
        "# Convert number to string label\n",
        "predicted = encoder.inverse_transform(predicted)\n",
        "print(predicted)"
      ]
    }
  ]
}