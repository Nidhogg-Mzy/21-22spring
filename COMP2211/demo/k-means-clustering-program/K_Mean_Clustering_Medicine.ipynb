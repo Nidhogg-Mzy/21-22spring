{
  "nbformat": 4,
  "nbformat_minor": 0,
  "metadata": {
    "colab": {
      "name": "K-Mean-Clustering-Medicine.ipynb",
      "provenance": [],
      "collapsed_sections": []
    },
    "kernelspec": {
      "name": "python3",
      "display_name": "Python 3"
    },
    "language_info": {
      "name": "python"
    }
  },
  "cells": [
    {
      "cell_type": "code",
      "execution_count": null,
      "metadata": {
        "colab": {
          "base_uri": "https://localhost:8080/",
          "height": 312
        },
        "id": "8ugqq7buGitL",
        "outputId": "12f0b795-1028-4db5-a0bd-7887fe9ddce1"
      },
      "outputs": [
        {
          "output_type": "execute_result",
          "data": {
            "text/plain": [
              "Text(0.5, 1.0, 'Medicine - K-Means Clustering')"
            ]
          },
          "metadata": {},
          "execution_count": 7
        },
        {
          "output_type": "display_data",
          "data": {
            "image/png": "[encoded data removed]",
            "text/plain": [
              "<Figure size 432x288 with 1 Axes>"
            ]
          },
          "metadata": {
            "needs_background": "light"
          }
        }
      ],
      "source": [
        "# Import the required libraries\n",
        "import numpy as np\n",
        "from sklearn.cluster import KMeans\n",
        "import matplotlib.pyplot as plt\n",
        "\n",
        "# Unlabled training data\n",
        "data = np.array([[1,1], [2,1], [4,3], [5,4]])\n",
        "\n",
        "# Initial centroids\n",
        "init_centroids = np.array([[1,1], [2,1]])\n",
        "\n",
        "# Create a KMeans object by specifying\n",
        "# - Number of clusters (n_clusters) = 2, initial centroids (init) = init_centroids\n",
        "# - Number of time the k-means algorithm will be run with different centroid seeds (n_init) = 1\n",
        "# - Maximum number of iterations of the k-means algorithm for a single run (max_iter) = 3\n",
        "kmeans = KMeans(n_clusters=2, init=init_centroids, n_init=1, max_iter = 3)\n",
        "\n",
        "kmeans.fit(data)                    # Compute k-means clustering\n",
        "labels = kmeans.predict(data)       # Predict the closest cluster each sample in data belongs to\n",
        "centroids = kmeans.cluster_centers_ # Get resulting centroids\n",
        "fig, ax = plt.subplots()            # Defining 2D axes so that we can plot 2D data into it\n",
        "\n",
        "# Get boolean arrays representing entries with labels = 0 and 1\n",
        "a = np.array(labels == 0); b = np.array(labels == 1)\n",
        "\n",
        "# Plot centroids with color = black, size = 50 units, transparency = 20%, and put label \"Centroids\"\n",
        "ax.scatter(centroids[:,0], centroids[:,1], c=\"black\", s=50, alpha=0.8, label=\"Centroids\")\n",
        "# Plot data in the different clusters (1st in red, 2nd in green)\n",
        "ax.scatter(data[a,0], data[a,1], c=\"red\", s=40, alpha=0.5, label=\"1st Cluster\")\n",
        "ax.scatter(data[b,0], data[b,1], c=\"green\", s=40, alpha=0.5, label=\"2nd Cluster\")\n",
        "ax.legend() # Show legend\n",
        "\n",
        "ax.set_xlabel(\"Weight Index\")                 # Put x-axis label \"Weight Index\"\n",
        "ax.set_ylabel(\"pH Index\")                     # Put y-axis label \"pH Index\"\n",
        "ax.set_title(\"Medicine - K-Means Clustering\") # Put figure title"
      ]
    },
    {
      "cell_type": "code",
      "source": [
        ""
      ],
      "metadata": {
        "id": "KpPr1GivHKzl"
      },
      "execution_count": null,
      "outputs": []
    }
  ]
}